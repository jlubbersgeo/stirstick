{
 "cells": [
  {
   "cell_type": "markdown",
   "metadata": {},
   "source": [
    "# Creating and visualizing binary and ternary mixtures with `stirstick`\n",
    "\n",
    "_Jordan Lubbers<br>\n",
    "U.S. Geological Survey Alaska Volcano Observatory_\n",
    "\n",
    "## Background and theory\n",
    "\n",
    "Quantifying and visualizing geochemical mixtures exists in many earth science disciplines. This quantification can range from relatively simple two component mixing of concentrations to significantly more complex n-component mixing of isotopic ratios and everything in between. Here, I outline how to create mixing models over a wide range of scenarios using a small, but powerful package I have created called `stirstick`. It is solely devoted to creating and visualizing geochemical mixing models. Below I outline some of the basics of calculating mixing between components. For a more in-depth explanation of mxing theory the following references are incredibly useful:\n",
    "\n",
    "- [Albarede (1995): _Introduction to Geochemical Modeling_](https://www.cambridge.org/core/books/introduction-to-geochemical-modeling/020E2B1DCF69C3337C0022CAE419A5DC) Chapter 1 on mass balance, mixing, and fractionation.\n",
    "\n",
    "- [Faure 1998: _Principles and Applications of Geochemistry 2<sup>nd</sup> edition_](https://www.pearson.com/us/higher-education/program/Faure-Principles-and-Applications-of-Geochemistry-2nd-Edition/PGM110956.html) pg. 336 eqns 18.24-18.26\n",
    "- [Faure and Mensing (2009): _Isotopes Principles and Applications 3<sup>rd</sup> edition_](https://www.wiley.com/en-us/Isotopes%3A+Principles+and+Applications%2C+3rd+Edition-p-9780471384373https://www.wiley.com/en-us/Isotopes%3A+Principles+and+Applications%2C+3rd+Edition-p-9780471384373) chapter 16 on Mixing Theory\n",
    "\n",
    "### Two component mixing\n",
    "\n",
    "For a two component mixture $M$, comprised of components $A$ and $B$, the concentration of mixture $M$ is defined as (Albarede 1995 eq. 1.1.3):\n",
    "\n",
    "$$C_M = C_Af_A + C_B(1 - f_A)$$\n",
    "\n",
    "where $C$ is the concentration and $f_A$ is the fraction of component $A$ in the mixture.\n",
    "\n",
    "When investigating mixtures of ratios we use the Albarede (1995):\n",
    "\n",
    "$$ \\left(\\frac{C^{i2}}{C^{i1}}\\right)\\_M = \\left(\\frac{C^{i2}}{C^{i1}}\\right)\\_A{\\varphi_A}^{i1} + \\left(\\frac{C^{i2}}{C^{i1}}\\right)\\_B\\left(1 - {\\varphi_A}^{i1}\\right)$$\n",
    "\n",
    "<br>\n",
    "<center> where: </center>\n",
    "<br>\n",
    "<br>\n",
    "\n",
    "$$ {\\varphi_A}^{i1} = \\frac{C^{i1}\\_Af_A}{C^{i1}\\_M} $$\n",
    "\n",
    "We can think of $\\varphi$ as the mass fraction of species $i$ for each component in the mixture. Note...ratios may be isotopic systems (e.g., $\\delta^{18}O$, Os, Nd, etc.) or ratios defined by two different elements (e.g. $\\frac{FeO}{MgO}$).\n",
    "\n",
    "### N component mixing\n",
    "\n",
    "A mixture of $n$ components will have a concentration (e.g. Sr) dictated by the following relationship:\n",
    "\n",
    "$$Sr_M = Sr_Af_A + Sr_Bf_B + Sr_Cf_C + ... Sr_nf_n$$\n",
    "\n",
    "Expanding on two component mixtures from above we can get the general form for an $n$ component mixture of ratios (e.g., $\\frac{^{87}Sr}{^{86}Sr}$; Albarede, 1995 eq. 1.3.1, 1.3.2):\n",
    "\n",
    "$$ \\left(\\frac{^{87}Sr}{^{86}Sr}\\right)_M = \\sum_{j=1}^{n}\\left(\\frac{^{87}Sr}{^{86}Sr}\\right)\\_j\\varphi_j $$\n",
    "\n",
    "<br>\n",
    "<center> where: </center>\n",
    "<br>\n",
    "<br>\n",
    "\n",
    "$$ \\varphi_j = \\frac{Sr_jf_j}{Sr_M}$$\n",
    "\n",
    "Putting it all together:\n",
    "\n",
    "$$ \\left(\\frac{^{87}Sr}{^{86}Sr}\\right)_M = \\sum_{j=1}^{n}\\left(\\frac{^{87}Sr}{^{86}Sr}\\right)\\_j\\frac{Sr_jf_j}{Sr_M} $$\n",
    "\n",
    "Again, while we are using Sr isotope notation as an example here, ratios may be other isotopic systems (e.g., $\\delta^{18}O$, Os, Nd, etc.) or ratios defined by two different elements (e.g. $\\frac{FeO}{MgO}$).\n",
    "\n",
    "## Creating mixing models\n",
    "\n",
    "`stirstick` has two modules:\n",
    "\n",
    "1. `mixing`: This is where all the calculations for creating mixing models are done\n",
    "2. `plotting`: This is where all the visualization of models created in `mixing` is created\n",
    "\n",
    "That's it! Let's get started. We'll be re-creating some figures from Albarede (1995) as well as Faure (1998). We start by importing all the packages (including `stirstick`) that we'll need:\n"
   ]
  },
  {
   "cell_type": "code",
   "execution_count": 1,
   "metadata": {},
   "outputs": [],
   "source": [
    "import numpy as np\n",
    "import matplotlib.pyplot as plt\n",
    "import pandas as pd\n",
    "from stirstick import plotting, mixing\n"
   ]
  },
  {
   "cell_type": "markdown",
   "metadata": {},
   "source": [
    "### 2 and 3 component mixtures of concentrations\n",
    "\n",
    "`stirstick` has two functions for creating mixing models of concentrations:\n",
    "\n",
    "1. `concentration_mixing_2c`\n",
    "2. `concentration_mixing_3c`\n",
    "\n",
    "All they require is the concentrations of each end-member and the resolution over which to create the model. This `resolution` argument can be thought of as the spacing of component fractions in the mixing model. Its default is 0.1 and will therefore generate an array of component fractions at this spacing between 0 and 1. Consider the example from Faure (1998) with binary mixing of Ca and Sr from Lake Huron:\n"
   ]
  },
  {
   "cell_type": "code",
   "execution_count": 2,
   "metadata": {},
   "outputs": [
    {
     "data": {
      "text/html": [
       "<div>\n",
       "<style scoped>\n",
       "    .dataframe tbody tr th:only-of-type {\n",
       "        vertical-align: middle;\n",
       "    }\n",
       "\n",
       "    .dataframe tbody tr th {\n",
       "        vertical-align: top;\n",
       "    }\n",
       "\n",
       "    .dataframe thead th {\n",
       "        text-align: right;\n",
       "    }\n",
       "</style>\n",
       "<table border=\"1\" class=\"dataframe\">\n",
       "  <thead>\n",
       "    <tr style=\"text-align: right;\">\n",
       "      <th></th>\n",
       "      <th>Sr_ppb</th>\n",
       "      <th>Ca_ppm</th>\n",
       "    </tr>\n",
       "  </thead>\n",
       "  <tbody>\n",
       "    <tr>\n",
       "      <th>superior</th>\n",
       "      <td>25.8</td>\n",
       "      <td>14.4</td>\n",
       "    </tr>\n",
       "    <tr>\n",
       "      <th>huron</th>\n",
       "      <td>96.0</td>\n",
       "      <td>26.9</td>\n",
       "    </tr>\n",
       "  </tbody>\n",
       "</table>\n",
       "</div>"
      ],
      "text/plain": [
       "          Sr_ppb  Ca_ppm\n",
       "superior    25.8    14.4\n",
       "huron       96.0    26.9"
      ]
     },
     "execution_count": 2,
     "metadata": {},
     "output_type": "execute_result"
    }
   ],
   "source": [
    "faure_18_1 = pd.DataFrame(\n",
    "    {\"Sr_ppb\": [25.8, 96.0], \"Ca_ppm\": [14.4, 26.9]}, index=[\"superior\", \"huron\"]\n",
    ")\n",
    "faure_18_1\n"
   ]
  },
  {
   "cell_type": "markdown",
   "metadata": {},
   "source": [
    "DataFrames such as the one above are what `stirstick` uses for many of the inputs to its `mixing` functions as they easily allow us to access all the required information for each end-member using `pandas .loc` notation. Below we create the mixing values for both Sr and Ca spaced by 5% increments of end-member 1. This is always the first end-member listed in the function (in this case 'superior'):\n"
   ]
  },
  {
   "cell_type": "code",
   "execution_count": 3,
   "metadata": {},
   "outputs": [
    {
     "data": {
      "text/html": [
       "<div>\n",
       "<style scoped>\n",
       "    .dataframe tbody tr th:only-of-type {\n",
       "        vertical-align: middle;\n",
       "    }\n",
       "\n",
       "    .dataframe tbody tr th {\n",
       "        vertical-align: top;\n",
       "    }\n",
       "\n",
       "    .dataframe thead th {\n",
       "        text-align: right;\n",
       "    }\n",
       "</style>\n",
       "<table border=\"1\" class=\"dataframe\">\n",
       "  <thead>\n",
       "    <tr style=\"text-align: right;\">\n",
       "      <th></th>\n",
       "      <th>f_1</th>\n",
       "      <th>concentration</th>\n",
       "    </tr>\n",
       "  </thead>\n",
       "  <tbody>\n",
       "    <tr>\n",
       "      <th>0</th>\n",
       "      <td>0.00</td>\n",
       "      <td>96.00</td>\n",
       "    </tr>\n",
       "    <tr>\n",
       "      <th>1</th>\n",
       "      <td>0.05</td>\n",
       "      <td>92.49</td>\n",
       "    </tr>\n",
       "    <tr>\n",
       "      <th>2</th>\n",
       "      <td>0.10</td>\n",
       "      <td>88.98</td>\n",
       "    </tr>\n",
       "    <tr>\n",
       "      <th>3</th>\n",
       "      <td>0.15</td>\n",
       "      <td>85.47</td>\n",
       "    </tr>\n",
       "    <tr>\n",
       "      <th>4</th>\n",
       "      <td>0.20</td>\n",
       "      <td>81.96</td>\n",
       "    </tr>\n",
       "  </tbody>\n",
       "</table>\n",
       "</div>"
      ],
      "text/plain": [
       "    f_1  concentration\n",
       "0  0.00          96.00\n",
       "1  0.05          92.49\n",
       "2  0.10          88.98\n",
       "3  0.15          85.47\n",
       "4  0.20          81.96"
      ]
     },
     "execution_count": 3,
     "metadata": {},
     "output_type": "execute_result"
    }
   ],
   "source": [
    "resolution = 0.05\n",
    "ca2_mixes = mixing.concentration_mixing_2c(\n",
    "    faure_18_1.loc[\"superior\", \"Ca_ppm\"],\n",
    "    faure_18_1.loc[\"huron\", \"Ca_ppm\"],\n",
    "    resolution=resolution,\n",
    ")\n",
    "sr2_mixes = mixing.concentration_mixing_2c(\n",
    "    faure_18_1.loc[\"superior\", \"Sr_ppb\"],\n",
    "    faure_18_1.loc[\"huron\", \"Sr_ppb\"],\n",
    "    resolution=resolution,\n",
    ")\n",
    "\n",
    "sr2_mixes.head()\n"
   ]
  },
  {
   "cell_type": "markdown",
   "metadata": {},
   "source": [
    "We add in some reasonable concentrations for northerm Lake Michigan surface water chemistry for Sr ([Rossmann and Barres 1988](https://reader.elsevier.com/reader/sd/pii/S0380133088715488?token=D6F2A5E986988EB7F3A42DE6F7B326317F0E4A21803B68CCF55876CBA74E41738B21A9665B81A61F7DD0E286CC4F6969&originRegion=us-east-1&originCreation=20221004222359)) and Ca ([Torrey 1976](https://books.google.com/books?hl=en&lr=&id=DEXwAAAAMAAJ&oi=fnd&pg=PA13&dq=calcium+surface+water+chemistry+lake+michigan&ots=oXQ31Iv4TP&sig=cvPHDT8RCvzMLCxLI4UKN54IhhU#v=onepage&q=calcium%20surface%20water%20chemistry%20lake%20michigan&f=false))\n"
   ]
  },
  {
   "cell_type": "code",
   "execution_count": 4,
   "metadata": {},
   "outputs": [
    {
     "data": {
      "text/html": [
       "<div>\n",
       "<style scoped>\n",
       "    .dataframe tbody tr th:only-of-type {\n",
       "        vertical-align: middle;\n",
       "    }\n",
       "\n",
       "    .dataframe tbody tr th {\n",
       "        vertical-align: top;\n",
       "    }\n",
       "\n",
       "    .dataframe thead th {\n",
       "        text-align: right;\n",
       "    }\n",
       "</style>\n",
       "<table border=\"1\" class=\"dataframe\">\n",
       "  <thead>\n",
       "    <tr style=\"text-align: right;\">\n",
       "      <th></th>\n",
       "      <th>Sr_ppb</th>\n",
       "      <th>Ca_ppm</th>\n",
       "    </tr>\n",
       "  </thead>\n",
       "  <tbody>\n",
       "    <tr>\n",
       "      <th>superior</th>\n",
       "      <td>25.8</td>\n",
       "      <td>14.4</td>\n",
       "    </tr>\n",
       "    <tr>\n",
       "      <th>huron</th>\n",
       "      <td>96.0</td>\n",
       "      <td>26.9</td>\n",
       "    </tr>\n",
       "    <tr>\n",
       "      <th>michigan</th>\n",
       "      <td>110.0</td>\n",
       "      <td>35.0</td>\n",
       "    </tr>\n",
       "  </tbody>\n",
       "</table>\n",
       "</div>"
      ],
      "text/plain": [
       "          Sr_ppb  Ca_ppm\n",
       "superior    25.8    14.4\n",
       "huron       96.0    26.9\n",
       "michigan   110.0    35.0"
      ]
     },
     "execution_count": 4,
     "metadata": {},
     "output_type": "execute_result"
    }
   ],
   "source": [
    "faure_18_1a = pd.DataFrame(\n",
    "    {\"Sr_ppb\": [25.8, 96.0, 110.0], \"Ca_ppm\": [14.4, 26.9, 35.0]},\n",
    "    index=[\"superior\", \"huron\", \"michigan\"],\n",
    ")\n",
    "faure_18_1a\n"
   ]
  },
  {
   "cell_type": "code",
   "execution_count": 5,
   "metadata": {},
   "outputs": [
    {
     "data": {
      "text/html": [
       "<div>\n",
       "<style scoped>\n",
       "    .dataframe tbody tr th:only-of-type {\n",
       "        vertical-align: middle;\n",
       "    }\n",
       "\n",
       "    .dataframe tbody tr th {\n",
       "        vertical-align: top;\n",
       "    }\n",
       "\n",
       "    .dataframe thead th {\n",
       "        text-align: right;\n",
       "    }\n",
       "</style>\n",
       "<table border=\"1\" class=\"dataframe\">\n",
       "  <thead>\n",
       "    <tr style=\"text-align: right;\">\n",
       "      <th></th>\n",
       "      <th>f_1</th>\n",
       "      <th>f_2</th>\n",
       "      <th>f_3</th>\n",
       "      <th>concentration</th>\n",
       "    </tr>\n",
       "  </thead>\n",
       "  <tbody>\n",
       "    <tr>\n",
       "      <th>0</th>\n",
       "      <td>0.00</td>\n",
       "      <td>1.00</td>\n",
       "      <td>0.00</td>\n",
       "      <td>96.00</td>\n",
       "    </tr>\n",
       "    <tr>\n",
       "      <th>1</th>\n",
       "      <td>0.05</td>\n",
       "      <td>0.95</td>\n",
       "      <td>0.00</td>\n",
       "      <td>92.49</td>\n",
       "    </tr>\n",
       "    <tr>\n",
       "      <th>2</th>\n",
       "      <td>0.10</td>\n",
       "      <td>0.90</td>\n",
       "      <td>0.00</td>\n",
       "      <td>88.98</td>\n",
       "    </tr>\n",
       "    <tr>\n",
       "      <th>3</th>\n",
       "      <td>0.15</td>\n",
       "      <td>0.85</td>\n",
       "      <td>0.00</td>\n",
       "      <td>85.47</td>\n",
       "    </tr>\n",
       "    <tr>\n",
       "      <th>4</th>\n",
       "      <td>0.20</td>\n",
       "      <td>0.80</td>\n",
       "      <td>0.00</td>\n",
       "      <td>81.96</td>\n",
       "    </tr>\n",
       "    <tr>\n",
       "      <th>...</th>\n",
       "      <td>...</td>\n",
       "      <td>...</td>\n",
       "      <td>...</td>\n",
       "      <td>...</td>\n",
       "    </tr>\n",
       "    <tr>\n",
       "      <th>212</th>\n",
       "      <td>0.05</td>\n",
       "      <td>0.05</td>\n",
       "      <td>0.90</td>\n",
       "      <td>105.09</td>\n",
       "    </tr>\n",
       "    <tr>\n",
       "      <th>213</th>\n",
       "      <td>0.10</td>\n",
       "      <td>0.00</td>\n",
       "      <td>0.90</td>\n",
       "      <td>101.58</td>\n",
       "    </tr>\n",
       "    <tr>\n",
       "      <th>214</th>\n",
       "      <td>0.00</td>\n",
       "      <td>0.05</td>\n",
       "      <td>0.95</td>\n",
       "      <td>109.30</td>\n",
       "    </tr>\n",
       "    <tr>\n",
       "      <th>215</th>\n",
       "      <td>0.05</td>\n",
       "      <td>0.00</td>\n",
       "      <td>0.95</td>\n",
       "      <td>105.79</td>\n",
       "    </tr>\n",
       "    <tr>\n",
       "      <th>216</th>\n",
       "      <td>0.00</td>\n",
       "      <td>0.00</td>\n",
       "      <td>1.00</td>\n",
       "      <td>110.00</td>\n",
       "    </tr>\n",
       "  </tbody>\n",
       "</table>\n",
       "<p>217 rows × 4 columns</p>\n",
       "</div>"
      ],
      "text/plain": [
       "      f_1   f_2   f_3  concentration\n",
       "0    0.00  1.00  0.00          96.00\n",
       "1    0.05  0.95  0.00          92.49\n",
       "2    0.10  0.90  0.00          88.98\n",
       "3    0.15  0.85  0.00          85.47\n",
       "4    0.20  0.80  0.00          81.96\n",
       "..    ...   ...   ...            ...\n",
       "212  0.05  0.05  0.90         105.09\n",
       "213  0.10  0.00  0.90         101.58\n",
       "214  0.00  0.05  0.95         109.30\n",
       "215  0.05  0.00  0.95         105.79\n",
       "216  0.00  0.00  1.00         110.00\n",
       "\n",
       "[217 rows x 4 columns]"
      ]
     },
     "execution_count": 5,
     "metadata": {},
     "output_type": "execute_result"
    }
   ],
   "source": [
    "ca3_mixes = mixing.concentration_mixing_3c(\n",
    "    faure_18_1a.loc[\"superior\", \"Ca_ppm\"],\n",
    "    faure_18_1a.loc[\"huron\", \"Ca_ppm\"],\n",
    "    faure_18_1a.loc[\"michigan\", \"Ca_ppm\"],\n",
    "    resolution=resolution,\n",
    ")\n",
    "sr3_mixes = mixing.concentration_mixing_3c(\n",
    "    faure_18_1a.loc[\"superior\", \"Sr_ppb\"],\n",
    "    faure_18_1a.loc[\"huron\", \"Sr_ppb\"],\n",
    "    faure_18_1a.loc[\"michigan\", \"Sr_ppb\"],\n",
    "    resolution=resolution,\n",
    ")\n",
    "sr3_mixes\n"
   ]
  },
  {
   "cell_type": "markdown",
   "metadata": {},
   "source": [
    "A couple of things to notice in the output from the functions above:\n",
    "\n",
    "1. they produce dataframes as outputs\n",
    "2. The columns denoting fraction in the mixture (`f_`) are in order of how the endmembers were input in the function\n",
    "\n",
    "With these two things in mind we can turn to visualization of the mixture models. Similar to the `mixing` module, the `plotting` module has two functions for visualizing mixtures of concentrations:\n",
    "\n",
    "1. `plot_2concentration_mixture`\n",
    "2. `plot_3concentration_mixture`\n",
    "\n",
    "All plotting functions are built in pure `matplotlib` and do not require any other external libraries. As with all matplotlib plots, out of the box they are relatively bland:\n"
   ]
  },
  {
   "cell_type": "code",
   "execution_count": 6,
   "metadata": {},
   "outputs": [
    {
     "data": {
      "text/plain": [
       "(0.0, 110.0)"
      ]
     },
     "execution_count": 6,
     "metadata": {},
     "output_type": "execute_result"
    },
    {
     "data": {
      "image/png": "[encoded data removed]",
      "text/plain": [
       "<Figure size 360x360 with 1 Axes>"
      ]
     },
     "metadata": {
      "needs_background": "light"
     },
     "output_type": "display_data"
    }
   ],
   "source": [
    "fig, ax = plt.subplots(figsize=(5, 5))\n",
    "plotting.plot_2concentration_mixture(\n",
    "    sr2_mixes[\"concentration\"], ca2_mixes[\"concentration\"], sr2_mixes[\"f_1\"]\n",
    ")\n",
    "ax.set_title(\"wow a line... how helpful\")\n",
    "ax.set_ylim(8, 29)\n",
    "ax.set_xlim(0, 110)\n"
   ]
  },
  {
   "cell_type": "markdown",
   "metadata": {},
   "source": [
    "The real power of these plotting functions, however, is in how they may be easily customized using dictionaries of keyword argument - value pairs. For example, from the documentation we see that for the `plot_2concentration_mixture` function there annotations, and plotting customizations available:\n",
    "\n",
    "```\n",
    "plot the results from a mixture model between two endmember concentrations\n",
    "\n",
    "    Args:\n",
    "        mix_x (array-like): x-values of a mixture model to be plotted.\n",
    "        (e.g., the 'concentration' column output from the\n",
    "        mixing.concentration_mixing_2c())\n",
    "\n",
    "        mix_y (array-like): y values of a mixture model to be plotted.\n",
    "        (e.g., the 'concentration' column output from the\n",
    "        mixing.concentration_mixing_2c())\n",
    "\n",
    "        f (array-like): f values of component 1 (e.g., the 'f1' column\n",
    "        output from the mixing.concentration_mixing_2c()).\n",
    "\n",
    "        annotate (bool, optional): Whether or not to annotate points\n",
    "        on the figure with the f value. Defaults to False.\n",
    "\n",
    "        plot_every (int, optional): The frequency of markers to plot\n",
    "        in the mixing model. Defaults to 1.\n",
    "\n",
    "        annotate_every (int, optional): The frequency of annotations\n",
    "        to plot on the figure. Only applicable if annotate = True.\n",
    "        Defaults to 2.\n",
    "\n",
    "        annotate_precision (int, optional): The precision of the\n",
    "        label to annotate (e.g., how many decimal places to show)\n",
    "\n",
    "        annotate_direction (str, optional): The direction relative\n",
    "        to the mixing line to annotate. Options are 'right', 'left',\n",
    "        'top', 'bottom'. Default is 'top'.\n",
    "\n",
    "        ax (_type_, optional): The matplotlib axis object to plot on.\n",
    "        Defaults to None.\n",
    "\n",
    "    Returns:\n",
    "        matplotlib axis object: Mixture model figure\n",
    "```\n"
   ]
  },
  {
   "cell_type": "code",
   "execution_count": 7,
   "metadata": {},
   "outputs": [
    {
     "data": {
      "text/plain": [
       "Text(0.5, 1.0, 'A much more informative line')"
      ]
     },
     "execution_count": 7,
     "metadata": {},
     "output_type": "execute_result"
    },
    {
     "data": {
      "image/png": "[encoded data removed]",
      "text/plain": [
       "<Figure size 360x360 with 1 Axes>"
      ]
     },
     "metadata": {
      "needs_background": "light"
     },
     "output_type": "display_data"
    }
   ],
   "source": [
    "plotting_kwargs = dict(marker=\"x\", mfc=\"white\", mec=\"k\", ls=\"-\", c=\"k\", lw=1)\n",
    "box_kwargs = dict(boxstyle=\"round\", fc=\"w\", alpha=1, pad=0.75)\n",
    "# a better figure to recreate 18.1 from\n",
    "# Faure (1998)\n",
    "fig, ax = plt.subplots(figsize=(5, 5))\n",
    "plotting.plot_2concentration_mixture(\n",
    "    sr2_mixes[\"concentration\"],\n",
    "    ca2_mixes[\"concentration\"],\n",
    "    sr2_mixes[\"f_1\"],\n",
    "    **plotting_kwargs,\n",
    "    plot_every=4,\n",
    "    annotate=True,\n",
    "    annotate_every=4,\n",
    "    annotate_direction=\"right\"\n",
    ")\n",
    "\n",
    "\n",
    "plotting.annotate_endmembers(\n",
    "    faure_18_1, x=\"Sr_ppb\", y=\"Ca_ppm\", zorder=10, box_kwargs=box_kwargs\n",
    ")\n",
    "ax.set_xlabel(\"Sr ppb\")\n",
    "ax.set_ylabel(\"Ca ppm\")\n",
    "ax.set_ylim(8, 29)\n",
    "ax.set_xlim(0, 110)\n",
    "\n",
    "ax.set_title(\"A much more informative line\")\n"
   ]
  },
  {
   "cell_type": "markdown",
   "metadata": {},
   "source": [
    "Mixtures of concentrations derived from three end-members no longer create a line, but rather a triangle. Similar to the 2 end-member plotting function we can customize many aspects of the visualization to fit our needs. Now, instead of a dictionary of keyword arguments for the line we have two dictionaries: 1 to customize the lines in the triangular mesh and 1 for lines that represent the borders:\n",
    "\n",
    "We can even add our mixing line above to the figure if we want to add some annotations!\n"
   ]
  },
  {
   "cell_type": "code",
   "execution_count": 8,
   "metadata": {},
   "outputs": [
    {
     "data": {
      "text/plain": [
       "<AxesSubplot:xlabel='Sr ppb', ylabel='Ca ppm'>"
      ]
     },
     "execution_count": 8,
     "metadata": {},
     "output_type": "execute_result"
    },
    {
     "data": {
      "image/png": "[encoded data removed]",
      "text/plain": [
       "<Figure size 360x360 with 1 Axes>"
      ]
     },
     "metadata": {
      "needs_background": "light"
     },
     "output_type": "display_data"
    }
   ],
   "source": [
    "mesh_kwargs = {\"marker\": \"\", \"ls\": \":\", \"c\": \"k\", \"lw\": 0.5}\n",
    "border_kwargs = {\"marker\": \".\", \"mfc\": \"w\", \"ls\": \"-\", \"c\": \"k\", \"lw\": 1}\n",
    "\n",
    "fig, ax = plt.subplots(figsize=(5, 5))\n",
    "\n",
    "# 3 end-member mixture\n",
    "plotting.plot_3concentration_mixture(\n",
    "    sr3_mixes,\n",
    "    ca3_mixes,\n",
    "    mesh_every=4,\n",
    "    border_every=4,\n",
    "    mesh_kwargs=mesh_kwargs,\n",
    "    border_kwargs=border_kwargs,\n",
    ")\n",
    "\n",
    "# 2 end member mixture on top for annotations\n",
    "plotting.plot_2concentration_mixture(\n",
    "    sr2_mixes[\"concentration\"],\n",
    "    ca2_mixes[\"concentration\"],\n",
    "    sr2_mixes[\"f_1\"],\n",
    "    **border_kwargs,\n",
    "    plot_every=4,\n",
    "    annotate=True,\n",
    "    annotate_every=4,\n",
    "    annotate_direction=\"bottom\"\n",
    ")\n",
    "ax.set_xlim(0, 130)\n",
    "ax.set_ylim(5, 40)\n",
    "ax.set_xlabel(\"Sr ppb\")\n",
    "ax.set_ylabel(\"Ca ppm\")\n",
    "\n",
    "# end member annotations\n",
    "plotting.annotate_endmembers(\n",
    "    faure_18_1a, x=\"Sr_ppb\", y=\"Ca_ppm\", box_kwargs=box_kwargs, zorder=10\n",
    ")\n"
   ]
  },
  {
   "cell_type": "markdown",
   "metadata": {},
   "source": [
    "### 2 and 3 component mixtures involving ratios\n",
    "\n",
    "There are two general scenarios for mixtures involving ratios and `stirstick` accomodates these with the following functions:\n",
    "\n",
    "1. mixtures in ratio vs. concentration space\n",
    "   - ratio_concentration_mixing_2c()\n",
    "   - ratio_concentration_mixing_3c()<br>\n",
    "     <br>\n",
    "2. mixtures in ratio vs. ratio space\n",
    "   - ratio_ratio_mixing_2c()\n",
    "   - ratio_ratio_mixing_3c()\n",
    "\n",
    "Starting with two components, we turn to Albarede (1995) table 1.6 for some sample data\n"
   ]
  },
  {
   "cell_type": "code",
   "execution_count": 9,
   "metadata": {},
   "outputs": [
    {
     "data": {
      "text/html": [
       "<div>\n",
       "<style scoped>\n",
       "    .dataframe tbody tr th:only-of-type {\n",
       "        vertical-align: middle;\n",
       "    }\n",
       "\n",
       "    .dataframe tbody tr th {\n",
       "        vertical-align: top;\n",
       "    }\n",
       "\n",
       "    .dataframe thead th {\n",
       "        text-align: right;\n",
       "    }\n",
       "</style>\n",
       "<table border=\"1\" class=\"dataframe\">\n",
       "  <thead>\n",
       "    <tr style=\"text-align: right;\">\n",
       "      <th></th>\n",
       "      <th>Sr_r</th>\n",
       "      <th>Sr_c</th>\n",
       "    </tr>\n",
       "  </thead>\n",
       "  <tbody>\n",
       "    <tr>\n",
       "      <th>basalt</th>\n",
       "      <td>0.704</td>\n",
       "      <td>400</td>\n",
       "    </tr>\n",
       "    <tr>\n",
       "      <th>gneiss</th>\n",
       "      <td>0.712</td>\n",
       "      <td>100</td>\n",
       "    </tr>\n",
       "  </tbody>\n",
       "</table>\n",
       "</div>"
      ],
      "text/plain": [
       "         Sr_r  Sr_c\n",
       "basalt  0.704   400\n",
       "gneiss  0.712   100"
      ]
     },
     "execution_count": 9,
     "metadata": {},
     "output_type": "execute_result"
    }
   ],
   "source": [
    "table_1_6 = pd.DataFrame(\n",
    "    {\n",
    "        \"Sr_r\": np.array([0.704, 0.712]),\n",
    "        \"Sr_c\": np.array([400, 100]),\n",
    "    },\n",
    "    index=[\"basalt\", \"gneiss\"],\n",
    ")\n",
    "table_1_6\n"
   ]
  },
  {
   "cell_type": "markdown",
   "metadata": {},
   "source": [
    "We use the identifiers \"\\_r\" to denote the values that represent ratios (in this case the $\\frac{^{87}Sr}{^{86}Sr}$ value) and \"\\_c\" to denote values that are concentrations. This then allows us to input the dataframe into the function, specify a resolution and get an output:\n"
   ]
  },
  {
   "cell_type": "code",
   "execution_count": 10,
   "metadata": {},
   "outputs": [
    {
     "data": {
      "text/html": [
       "<div>\n",
       "<style scoped>\n",
       "    .dataframe tbody tr th:only-of-type {\n",
       "        vertical-align: middle;\n",
       "    }\n",
       "\n",
       "    .dataframe tbody tr th {\n",
       "        vertical-align: top;\n",
       "    }\n",
       "\n",
       "    .dataframe thead th {\n",
       "        text-align: right;\n",
       "    }\n",
       "</style>\n",
       "<table border=\"1\" class=\"dataframe\">\n",
       "  <thead>\n",
       "    <tr style=\"text-align: right;\">\n",
       "      <th></th>\n",
       "      <th>f_basalt</th>\n",
       "      <th>Sr_c_mix</th>\n",
       "      <th>Sr_r_mix</th>\n",
       "    </tr>\n",
       "  </thead>\n",
       "  <tbody>\n",
       "    <tr>\n",
       "      <th>0</th>\n",
       "      <td>1.00</td>\n",
       "      <td>400.0</td>\n",
       "      <td>0.704000</td>\n",
       "    </tr>\n",
       "    <tr>\n",
       "      <th>1</th>\n",
       "      <td>0.95</td>\n",
       "      <td>385.0</td>\n",
       "      <td>0.704104</td>\n",
       "    </tr>\n",
       "    <tr>\n",
       "      <th>2</th>\n",
       "      <td>0.90</td>\n",
       "      <td>370.0</td>\n",
       "      <td>0.704216</td>\n",
       "    </tr>\n",
       "    <tr>\n",
       "      <th>3</th>\n",
       "      <td>0.85</td>\n",
       "      <td>355.0</td>\n",
       "      <td>0.704338</td>\n",
       "    </tr>\n",
       "    <tr>\n",
       "      <th>4</th>\n",
       "      <td>0.80</td>\n",
       "      <td>340.0</td>\n",
       "      <td>0.704471</td>\n",
       "    </tr>\n",
       "  </tbody>\n",
       "</table>\n",
       "</div>"
      ],
      "text/plain": [
       "   f_basalt  Sr_c_mix  Sr_r_mix\n",
       "0      1.00     400.0  0.704000\n",
       "1      0.95     385.0  0.704104\n",
       "2      0.90     370.0  0.704216\n",
       "3      0.85     355.0  0.704338\n",
       "4      0.80     340.0  0.704471"
      ]
     },
     "execution_count": 10,
     "metadata": {},
     "output_type": "execute_result"
    }
   ],
   "source": [
    "rc2_mixes = mixing.ratio_concentration_mixing_2c(table_1_6, resolution=resolution)\n",
    "rc2_mixes.head()\n"
   ]
  },
  {
   "cell_type": "markdown",
   "metadata": {},
   "source": [
    "Accomodating a third end-member is relatively straight forward. The inputs to the function do not change, rather the shape of the input dataframe:\n"
   ]
  },
  {
   "cell_type": "code",
   "execution_count": 11,
   "metadata": {},
   "outputs": [
    {
     "data": {
      "text/html": [
       "<div>\n",
       "<style scoped>\n",
       "    .dataframe tbody tr th:only-of-type {\n",
       "        vertical-align: middle;\n",
       "    }\n",
       "\n",
       "    .dataframe tbody tr th {\n",
       "        vertical-align: top;\n",
       "    }\n",
       "\n",
       "    .dataframe thead th {\n",
       "        text-align: right;\n",
       "    }\n",
       "</style>\n",
       "<table border=\"1\" class=\"dataframe\">\n",
       "  <thead>\n",
       "    <tr style=\"text-align: right;\">\n",
       "      <th></th>\n",
       "      <th>Sr_r</th>\n",
       "      <th>Sr_c</th>\n",
       "    </tr>\n",
       "  </thead>\n",
       "  <tbody>\n",
       "    <tr>\n",
       "      <th>basalt</th>\n",
       "      <td>0.704</td>\n",
       "      <td>400</td>\n",
       "    </tr>\n",
       "    <tr>\n",
       "      <th>gneiss</th>\n",
       "      <td>0.712</td>\n",
       "      <td>100</td>\n",
       "    </tr>\n",
       "    <tr>\n",
       "      <th>granite</th>\n",
       "      <td>0.710</td>\n",
       "      <td>250</td>\n",
       "    </tr>\n",
       "  </tbody>\n",
       "</table>\n",
       "</div>"
      ],
      "text/plain": [
       "          Sr_r  Sr_c\n",
       "basalt   0.704   400\n",
       "gneiss   0.712   100\n",
       "granite  0.710   250"
      ]
     },
     "execution_count": 11,
     "metadata": {},
     "output_type": "execute_result"
    }
   ],
   "source": [
    "table_1_6a = pd.DataFrame(\n",
    "    {\n",
    "        \"Sr_r\": np.array([0.704, 0.712, 0.710]),\n",
    "        \"Sr_c\": np.array([400, 100, 250]),\n",
    "    },\n",
    "    index=[\"basalt\", \"gneiss\", \"granite\"],\n",
    ")\n",
    "table_1_6a\n"
   ]
  },
  {
   "cell_type": "code",
   "execution_count": 12,
   "metadata": {},
   "outputs": [
    {
     "data": {
      "text/html": [
       "<div>\n",
       "<style scoped>\n",
       "    .dataframe tbody tr th:only-of-type {\n",
       "        vertical-align: middle;\n",
       "    }\n",
       "\n",
       "    .dataframe tbody tr th {\n",
       "        vertical-align: top;\n",
       "    }\n",
       "\n",
       "    .dataframe thead th {\n",
       "        text-align: right;\n",
       "    }\n",
       "</style>\n",
       "<table border=\"1\" class=\"dataframe\">\n",
       "  <thead>\n",
       "    <tr style=\"text-align: right;\">\n",
       "      <th></th>\n",
       "      <th>f_basalt</th>\n",
       "      <th>f_gneiss</th>\n",
       "      <th>f_granite</th>\n",
       "      <th>Sr_c_mix</th>\n",
       "      <th>Sr_r_mix</th>\n",
       "    </tr>\n",
       "  </thead>\n",
       "  <tbody>\n",
       "    <tr>\n",
       "      <th>0</th>\n",
       "      <td>0.00</td>\n",
       "      <td>1.00</td>\n",
       "      <td>0.0</td>\n",
       "      <td>100.0</td>\n",
       "      <td>0.712000</td>\n",
       "    </tr>\n",
       "    <tr>\n",
       "      <th>1</th>\n",
       "      <td>0.05</td>\n",
       "      <td>0.95</td>\n",
       "      <td>0.0</td>\n",
       "      <td>115.0</td>\n",
       "      <td>0.710609</td>\n",
       "    </tr>\n",
       "    <tr>\n",
       "      <th>2</th>\n",
       "      <td>0.10</td>\n",
       "      <td>0.90</td>\n",
       "      <td>0.0</td>\n",
       "      <td>130.0</td>\n",
       "      <td>0.709538</td>\n",
       "    </tr>\n",
       "    <tr>\n",
       "      <th>3</th>\n",
       "      <td>0.15</td>\n",
       "      <td>0.85</td>\n",
       "      <td>0.0</td>\n",
       "      <td>145.0</td>\n",
       "      <td>0.708690</td>\n",
       "    </tr>\n",
       "    <tr>\n",
       "      <th>4</th>\n",
       "      <td>0.20</td>\n",
       "      <td>0.80</td>\n",
       "      <td>0.0</td>\n",
       "      <td>160.0</td>\n",
       "      <td>0.708000</td>\n",
       "    </tr>\n",
       "  </tbody>\n",
       "</table>\n",
       "</div>"
      ],
      "text/plain": [
       "   f_basalt  f_gneiss  f_granite  Sr_c_mix  Sr_r_mix\n",
       "0      0.00      1.00        0.0     100.0  0.712000\n",
       "1      0.05      0.95        0.0     115.0  0.710609\n",
       "2      0.10      0.90        0.0     130.0  0.709538\n",
       "3      0.15      0.85        0.0     145.0  0.708690\n",
       "4      0.20      0.80        0.0     160.0  0.708000"
      ]
     },
     "execution_count": 12,
     "metadata": {},
     "output_type": "execute_result"
    }
   ],
   "source": [
    "rc3_mixes = mixing.ratio_concentration_mixing_3c(table_1_6a, resolution=resolution)\n",
    "rc3_mixes.head()\n"
   ]
  },
  {
   "cell_type": "markdown",
   "metadata": {},
   "source": [
    "A couple things to notice in the output dataframes from these functions:\n",
    "\n",
    "1. They use the index of the input dataframe to label the columns corresponding to their fraction contributions to the mixture\n",
    "2. Again we have the \"\\_c\" and \"\\_r\" flags to denote values that are concentrations and ratios, respectively. We also add the \"mix\" suffix to explicitly label them as mixtures.\n",
    "\n",
    "Finally, we end with calculating the ratio-ratio mixtures for two and three end-member scenarios. These take two dataframes as input: one for one ratio system (x vals) and one for the other (y vals). Each is the same shape as the singular dataframe input for `ratio_concentration_mixing_2c`. Here we'll turn to Albarede (1995) Table 1.10:\n"
   ]
  },
  {
   "cell_type": "code",
   "execution_count": 13,
   "metadata": {},
   "outputs": [
    {
     "data": {
      "text/html": [
       "<div>\n",
       "<style scoped>\n",
       "    .dataframe tbody tr th:only-of-type {\n",
       "        vertical-align: middle;\n",
       "    }\n",
       "\n",
       "    .dataframe tbody tr th {\n",
       "        vertical-align: top;\n",
       "    }\n",
       "\n",
       "    .dataframe thead th {\n",
       "        text-align: right;\n",
       "    }\n",
       "</style>\n",
       "<table border=\"1\" class=\"dataframe\">\n",
       "  <thead>\n",
       "    <tr style=\"text-align: right;\">\n",
       "      <th></th>\n",
       "      <th>Sr_r</th>\n",
       "      <th>Sr_c</th>\n",
       "      <th>Nd_r</th>\n",
       "      <th>Nd_c</th>\n",
       "    </tr>\n",
       "    <tr>\n",
       "      <th>mantle_component</th>\n",
       "      <th></th>\n",
       "      <th></th>\n",
       "      <th></th>\n",
       "      <th></th>\n",
       "    </tr>\n",
       "  </thead>\n",
       "  <tbody>\n",
       "    <tr>\n",
       "      <th>DM</th>\n",
       "      <td>0.703</td>\n",
       "      <td>40</td>\n",
       "      <td>0.5131</td>\n",
       "      <td>5</td>\n",
       "    </tr>\n",
       "    <tr>\n",
       "      <th>EM1</th>\n",
       "      <td>0.705</td>\n",
       "      <td>400</td>\n",
       "      <td>0.5118</td>\n",
       "      <td>10</td>\n",
       "    </tr>\n",
       "    <tr>\n",
       "      <th>EM2</th>\n",
       "      <td>0.710</td>\n",
       "      <td>20</td>\n",
       "      <td>0.5121</td>\n",
       "      <td>10</td>\n",
       "    </tr>\n",
       "  </tbody>\n",
       "</table>\n",
       "</div>"
      ],
      "text/plain": [
       "                   Sr_r  Sr_c    Nd_r  Nd_c\n",
       "mantle_component                           \n",
       "DM                0.703    40  0.5131     5\n",
       "EM1               0.705   400  0.5118    10\n",
       "EM2               0.710    20  0.5121    10"
      ]
     },
     "execution_count": 13,
     "metadata": {},
     "output_type": "execute_result"
    }
   ],
   "source": [
    "table_1_10 = pd.DataFrame(\n",
    "    {\n",
    "        \"mantle_component\": [\"DM\", \"EM1\", \"EM2\"],\n",
    "        \"Sr_r\": np.array([0.703, 0.705, 0.710]),\n",
    "        \"Sr_c\": np.array([40, 400, 20]),\n",
    "        \"Nd_r\": np.array([0.5131, 0.5118, 0.5121]),\n",
    "        \"Nd_c\": np.array([5, 10, 10]),\n",
    "    },\n",
    ").set_index(\"mantle_component\")\n",
    "table_1_10\n"
   ]
  },
  {
   "cell_type": "code",
   "execution_count": 14,
   "metadata": {},
   "outputs": [
    {
     "data": {
      "text/html": [
       "<div>\n",
       "<style scoped>\n",
       "    .dataframe tbody tr th:only-of-type {\n",
       "        vertical-align: middle;\n",
       "    }\n",
       "\n",
       "    .dataframe tbody tr th {\n",
       "        vertical-align: top;\n",
       "    }\n",
       "\n",
       "    .dataframe thead th {\n",
       "        text-align: right;\n",
       "    }\n",
       "</style>\n",
       "<table border=\"1\" class=\"dataframe\">\n",
       "  <thead>\n",
       "    <tr style=\"text-align: right;\">\n",
       "      <th></th>\n",
       "      <th>f_DM</th>\n",
       "      <th>Sr_c_mix</th>\n",
       "      <th>Sr_r_mix</th>\n",
       "      <th>Nd_c_mix</th>\n",
       "      <th>Nd_r_mix</th>\n",
       "    </tr>\n",
       "  </thead>\n",
       "  <tbody>\n",
       "    <tr>\n",
       "      <th>0</th>\n",
       "      <td>1.00</td>\n",
       "      <td>40.0</td>\n",
       "      <td>0.703000</td>\n",
       "      <td>5.00</td>\n",
       "      <td>0.513100</td>\n",
       "    </tr>\n",
       "    <tr>\n",
       "      <th>1</th>\n",
       "      <td>0.95</td>\n",
       "      <td>58.0</td>\n",
       "      <td>0.703690</td>\n",
       "      <td>5.25</td>\n",
       "      <td>0.512976</td>\n",
       "    </tr>\n",
       "    <tr>\n",
       "      <th>2</th>\n",
       "      <td>0.90</td>\n",
       "      <td>76.0</td>\n",
       "      <td>0.704053</td>\n",
       "      <td>5.50</td>\n",
       "      <td>0.512864</td>\n",
       "    </tr>\n",
       "    <tr>\n",
       "      <th>3</th>\n",
       "      <td>0.85</td>\n",
       "      <td>94.0</td>\n",
       "      <td>0.704277</td>\n",
       "      <td>5.75</td>\n",
       "      <td>0.512761</td>\n",
       "    </tr>\n",
       "    <tr>\n",
       "      <th>4</th>\n",
       "      <td>0.80</td>\n",
       "      <td>112.0</td>\n",
       "      <td>0.704429</td>\n",
       "      <td>6.00</td>\n",
       "      <td>0.512667</td>\n",
       "    </tr>\n",
       "  </tbody>\n",
       "</table>\n",
       "</div>"
      ],
      "text/plain": [
       "   f_DM  Sr_c_mix  Sr_r_mix  Nd_c_mix  Nd_r_mix\n",
       "0  1.00      40.0  0.703000      5.00  0.513100\n",
       "1  0.95      58.0  0.703690      5.25  0.512976\n",
       "2  0.90      76.0  0.704053      5.50  0.512864\n",
       "3  0.85      94.0  0.704277      5.75  0.512761\n",
       "4  0.80     112.0  0.704429      6.00  0.512667"
      ]
     },
     "execution_count": 14,
     "metadata": {},
     "output_type": "execute_result"
    }
   ],
   "source": [
    "rr2_mixes = mixing.ratio_ratio_mixing_2c(\n",
    "    table_1_10.loc[[\"DM\", \"EM1\"], [\"Sr_r\", \"Sr_c\"]],\n",
    "    table_1_10.loc[[\"DM\", \"EM1\"], [\"Nd_r\", \"Nd_c\"]],\n",
    "    resolution=resolution,\n",
    ")\n",
    "rr2_mixes.head()\n"
   ]
  },
  {
   "cell_type": "markdown",
   "metadata": {},
   "source": [
    "As with `ratio_concentration_mixing_3c` and `ratio_concentration_mixing_2c` the only difference between `ratio_ratio_mixing_3c` and `ratio_ratio_mixing_2c` is the shape of the input dataframes:\n"
   ]
  },
  {
   "cell_type": "code",
   "execution_count": 15,
   "metadata": {},
   "outputs": [
    {
     "data": {
      "text/html": [
       "<div>\n",
       "<style scoped>\n",
       "    .dataframe tbody tr th:only-of-type {\n",
       "        vertical-align: middle;\n",
       "    }\n",
       "\n",
       "    .dataframe tbody tr th {\n",
       "        vertical-align: top;\n",
       "    }\n",
       "\n",
       "    .dataframe thead th {\n",
       "        text-align: right;\n",
       "    }\n",
       "</style>\n",
       "<table border=\"1\" class=\"dataframe\">\n",
       "  <thead>\n",
       "    <tr style=\"text-align: right;\">\n",
       "      <th></th>\n",
       "      <th>f_DM</th>\n",
       "      <th>f_EM1</th>\n",
       "      <th>f_EM2</th>\n",
       "      <th>Sr_c_mix</th>\n",
       "      <th>Sr_r_mix</th>\n",
       "      <th>Nd_c_mix</th>\n",
       "      <th>Nd_r_mix</th>\n",
       "    </tr>\n",
       "  </thead>\n",
       "  <tbody>\n",
       "    <tr>\n",
       "      <th>0</th>\n",
       "      <td>0.00</td>\n",
       "      <td>1.00</td>\n",
       "      <td>0.0</td>\n",
       "      <td>400.0</td>\n",
       "      <td>0.705000</td>\n",
       "      <td>10.00</td>\n",
       "      <td>0.511800</td>\n",
       "    </tr>\n",
       "    <tr>\n",
       "      <th>1</th>\n",
       "      <td>0.05</td>\n",
       "      <td>0.95</td>\n",
       "      <td>0.0</td>\n",
       "      <td>382.0</td>\n",
       "      <td>0.704990</td>\n",
       "      <td>9.75</td>\n",
       "      <td>0.511833</td>\n",
       "    </tr>\n",
       "    <tr>\n",
       "      <th>2</th>\n",
       "      <td>0.10</td>\n",
       "      <td>0.90</td>\n",
       "      <td>0.0</td>\n",
       "      <td>364.0</td>\n",
       "      <td>0.704978</td>\n",
       "      <td>9.50</td>\n",
       "      <td>0.511868</td>\n",
       "    </tr>\n",
       "    <tr>\n",
       "      <th>3</th>\n",
       "      <td>0.15</td>\n",
       "      <td>0.85</td>\n",
       "      <td>0.0</td>\n",
       "      <td>346.0</td>\n",
       "      <td>0.704965</td>\n",
       "      <td>9.25</td>\n",
       "      <td>0.511905</td>\n",
       "    </tr>\n",
       "    <tr>\n",
       "      <th>4</th>\n",
       "      <td>0.20</td>\n",
       "      <td>0.80</td>\n",
       "      <td>0.0</td>\n",
       "      <td>328.0</td>\n",
       "      <td>0.704951</td>\n",
       "      <td>9.00</td>\n",
       "      <td>0.511944</td>\n",
       "    </tr>\n",
       "  </tbody>\n",
       "</table>\n",
       "</div>"
      ],
      "text/plain": [
       "   f_DM  f_EM1  f_EM2  Sr_c_mix  Sr_r_mix  Nd_c_mix  Nd_r_mix\n",
       "0  0.00   1.00    0.0     400.0  0.705000     10.00  0.511800\n",
       "1  0.05   0.95    0.0     382.0  0.704990      9.75  0.511833\n",
       "2  0.10   0.90    0.0     364.0  0.704978      9.50  0.511868\n",
       "3  0.15   0.85    0.0     346.0  0.704965      9.25  0.511905\n",
       "4  0.20   0.80    0.0     328.0  0.704951      9.00  0.511944"
      ]
     },
     "execution_count": 15,
     "metadata": {},
     "output_type": "execute_result"
    }
   ],
   "source": [
    "rr3_mixes = mixing.ratio_ratio_mixing_3c(\n",
    "    table_1_10.loc[:, [\"Sr_r\", \"Sr_c\"]],\n",
    "    table_1_10.loc[:, [\"Nd_r\", \"Nd_c\"]],\n",
    "    resolution=resolution,\n",
    ")\n",
    "rr3_mixes.head()\n"
   ]
  },
  {
   "cell_type": "markdown",
   "metadata": {},
   "source": [
    "The visualization of mixing models that includes ratios becomes a little more abstract. Lines are no longer straight and triangles become 2D-planes with curved edges necessitating a little more help with plotting if we are to interpret them correctly! In general visualization of mixtures involving ratios within `stirstick` uses functions that take the output from the `mixing` functions that create them. For example, to visualize the results of the ratio-concentration example from Table 1.6 in Albarede (1995):\n"
   ]
  },
  {
   "cell_type": "code",
   "execution_count": 16,
   "metadata": {},
   "outputs": [
    {
     "data": {
      "text/plain": [
       "(0.7, 0.715)"
      ]
     },
     "execution_count": 16,
     "metadata": {},
     "output_type": "execute_result"
    },
    {
     "data": {
      "image/png": "[encoded data removed]",
      "text/plain": [
       "<Figure size 360x360 with 1 Axes>"
      ]
     },
     "metadata": {
      "needs_background": "light"
     },
     "output_type": "display_data"
    }
   ],
   "source": [
    "plotting_kwargs = dict(marker=\"o\", mfc=\"white\", mec=\"k\", ls=\"-\", c=\"k\", lw=1)\n",
    "\n",
    "fig, ax = plt.subplots(figsize=(5, 5))\n",
    "plotting.plot_2ratio_mixture(\n",
    "    rc2_mixes,\n",
    "    x=\"Sr_c_mix\",\n",
    "    y=\"Sr_r_mix\",\n",
    "    **plotting_kwargs,\n",
    "    annotate=True,\n",
    "    annotate_every=4,\n",
    "    annotate_direction=\"bottom\",\n",
    "    plot_every=4\n",
    ")\n",
    "plotting.annotate_endmembers(\n",
    "    table_1_6, x=\"Sr_c\", y=\"Sr_r\", zorder=10, box_kwargs=box_kwargs\n",
    ")\n",
    "ax.set_xlim(50, 500)\n",
    "ax.set_ylim(0.7, 0.715)\n"
   ]
  },
  {
   "cell_type": "code",
   "execution_count": 17,
   "metadata": {},
   "outputs": [
    {
     "data": {
      "text/plain": [
       "(0.5117, 0.5133)"
      ]
     },
     "execution_count": 17,
     "metadata": {},
     "output_type": "execute_result"
    },
    {
     "data": {
      "image/png": "[encoded data removed]",
      "text/plain": [
       "<Figure size 360x360 with 1 Axes>"
      ]
     },
     "metadata": {
      "needs_background": "light"
     },
     "output_type": "display_data"
    }
   ],
   "source": [
    "fig, ax = plt.subplots(figsize=(5, 5))\n",
    "plotting.plot_3ratio_mixture(\n",
    "    rr3_mixes,\n",
    "    x=\"Sr_r_mix\",\n",
    "    y=\"Nd_r_mix\",\n",
    "    mesh_every=1,\n",
    "    border_every=2,\n",
    "    mesh_kwargs=mesh_kwargs,\n",
    "    border_kwargs=border_kwargs,\n",
    ")\n",
    "\n",
    "plotting.annotate_endmembers(\n",
    "    table_1_10, x=\"Sr_r\", y=\"Nd_r\", zorder=10, box_kwargs=box_kwargs\n",
    ")\n",
    "ax.set_xlim(0.7, 0.712)\n",
    "ax.set_ylim(0.5117, 0.5133)\n"
   ]
  },
  {
   "cell_type": "markdown",
   "metadata": {},
   "source": [
    "We can also combine both ratio plotting functions to include an annotated mixing line by filtering our output data for a given end-member at a certain value. For example, to plot a mixing line along the line where the enriched mantle end-member 1 is held constant at 0.1 we do the following and add it to our figure above!\n"
   ]
  },
  {
   "cell_type": "code",
   "execution_count": 18,
   "metadata": {},
   "outputs": [
    {
     "data": {
      "text/plain": [
       "Text(0.01, 0.97, '*annotations are fraction of DM')"
      ]
     },
     "execution_count": 18,
     "metadata": {},
     "output_type": "execute_result"
    },
    {
     "data": {
      "image/png": "[encoded data removed]",
      "text/plain": [
       "<Figure size 576x576 with 1 Axes>"
      ]
     },
     "metadata": {
      "needs_background": "light"
     },
     "output_type": "display_data"
    }
   ],
   "source": [
    "em = \"f_EM1\"\n",
    "val = 0.1\n",
    "\n",
    "df = rr3_mixes.loc[\n",
    "    rr3_mixes[em] == val, [col for col in rr3_mixes.columns if em not in col]\n",
    "]\n",
    "fig, ax = plt.subplots(figsize=(8, 8))\n",
    "plotting.plot_3ratio_mixture(\n",
    "    rr3_mixes,\n",
    "    x=\"Sr_r_mix\",\n",
    "    y=\"Nd_r_mix\",\n",
    "    mesh_every=20,\n",
    "    border_every=2,\n",
    "    mesh_kwargs=mesh_kwargs,\n",
    "    border_kwargs=dict(marker=\"x\", c=\"k\"),\n",
    ")\n",
    "\n",
    "plotting.annotate_endmembers(\n",
    "    table_1_10, x=\"Sr_r\", y=\"Nd_r\", zorder=10, box_kwargs=box_kwargs\n",
    ")\n",
    "ax.set_xlim(0.7, 0.712)\n",
    "ax.set_ylim(0.5117, 0.5133)\n",
    "\n",
    "plotting.plot_2ratio_mixture(\n",
    "    df,\n",
    "    x=\"Sr_r_mix\",\n",
    "    y=\"Nd_r_mix\",\n",
    "    c=\"r\",\n",
    "    marker=\".\",\n",
    "    mec=\"k\",\n",
    "    label=f'mixing line\\n {em.replace(\"_\",\" \")} = {val}',\n",
    "    plot_every=5,\n",
    "    annotate_every=5,\n",
    "    annotate=True,\n",
    "    annotate_direction=\"right\",\n",
    ")\n",
    "\n",
    "ax.legend(loc=\"upper right\")\n",
    "ax.set_xlabel(r\"$\\frac{^{87}Sr}{^{86}Sr}$\", fontsize=30)\n",
    "ax.set_ylabel(\n",
    "    r\"$\\frac{^{143}Nd}{^{144}Nd}$\", fontsize=30, labelpad=35, rotation=\"horizontal\"\n",
    ")\n",
    "ax.text(0.01, 0.97, \"*annotations are fraction of DM\", transform=ax.transAxes)\n"
   ]
  },
  {
   "cell_type": "code",
   "execution_count": null,
   "metadata": {},
   "outputs": [],
   "source": []
  }
 ],
 "metadata": {
  "kernelspec": {
   "display_name": "Python 3.8.12 ('usgs')",
   "language": "python",
   "name": "python3"
  },
  "language_info": {
   "codemirror_mode": {
    "name": "ipython",
    "version": 3
   },
   "file_extension": ".py",
   "mimetype": "text/x-python",
   "name": "python",
   "nbconvert_exporter": "python",
   "pygments_lexer": "ipython3",
   "version": "3.8.12"
  },
  "orig_nbformat": 4,
  "vscode": {
   "interpreter": {
    "hash": "42e2ec2e624b675a5b69ad82f4f1480a81239a9eb02e1cd7cbe9ceb20ecfde4d"
   }
  }
 },
 "nbformat": 4,
 "nbformat_minor": 2
}
